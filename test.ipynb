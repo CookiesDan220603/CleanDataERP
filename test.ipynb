{
 "cells": [
  {
   "cell_type": "code",
   "execution_count": 3,
   "id": "26101ef0",
   "metadata": {},
   "outputs": [
    {
     "name": "stdout",
     "output_type": "stream",
     "text": [
      "0\n",
      "300\n",
      "1\n",
      "600\n",
      "2\n",
      "900\n",
      "3\n",
      "1200\n",
      "4\n",
      "1500\n",
      "5\n",
      "1800\n",
      "6\n",
      "2100\n",
      "7\n",
      "2400\n",
      "8\n",
      "2700\n",
      "9\n",
      "3000\n",
      "10\n",
      "3300\n",
      "11\n",
      "3600\n",
      "12\n",
      "3900\n",
      "13\n",
      "4200\n",
      "14\n",
      "4500\n",
      "15\n",
      "4800\n",
      "16\n",
      "5100\n",
      "17\n",
      "5400\n",
      "18\n",
      "5700\n",
      "19\n",
      "6000\n",
      "20\n",
      "6300\n",
      "21\n",
      "6600\n",
      "22\n",
      "6900\n",
      "23\n",
      "7200\n",
      "7200\n"
     ]
    }
   ],
   "source": [
    "count = 0\n",
    "for i in range(24):\n",
    "    print(i)\n",
    "    count = 300 + 300*i\n",
    "    print(count)\n",
    "print(count)"
   ]
  },
  {
   "cell_type": "code",
   "execution_count": null,
   "id": "52541e30",
   "metadata": {},
   "outputs": [],
   "source": []
  }
 ],
 "metadata": {
  "kernelspec": {
   "display_name": "base",
   "language": "python",
   "name": "python3"
  },
  "language_info": {
   "codemirror_mode": {
    "name": "ipython",
    "version": 3
   },
   "file_extension": ".py",
   "mimetype": "text/x-python",
   "name": "python",
   "nbconvert_exporter": "python",
   "pygments_lexer": "ipython3",
   "version": "3.11.5"
  }
 },
 "nbformat": 4,
 "nbformat_minor": 5
}

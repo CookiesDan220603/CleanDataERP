{
 "cells": [
  {
   "cell_type": "code",
   "execution_count": 21,
   "metadata": {},
   "outputs": [],
   "source": [
    "import pandas as pd\n",
    "import re\n",
    "import unidecode"
   ]
  },
  {
   "cell_type": "code",
   "execution_count": 22,
   "metadata": {},
   "outputs": [
    {
     "data": {
      "text/html": [
       "<div>\n",
       "<style scoped>\n",
       "    .dataframe tbody tr th:only-of-type {\n",
       "        vertical-align: middle;\n",
       "    }\n",
       "\n",
       "    .dataframe tbody tr th {\n",
       "        vertical-align: top;\n",
       "    }\n",
       "\n",
       "    .dataframe thead th {\n",
       "        text-align: right;\n",
       "    }\n",
       "</style>\n",
       "<table border=\"1\" class=\"dataframe\">\n",
       "  <thead>\n",
       "    <tr style=\"text-align: right;\">\n",
       "      <th></th>\n",
       "      <th>Tên</th>\n",
       "      <th>Đường</th>\n",
       "      <th>Mã số thuế</th>\n",
       "      <th>Điện thoại</th>\n",
       "      <th>Diđộng</th>\n",
       "      <th>lọc di động</th>\n",
       "      <th>Email</th>\n",
       "      <th>Thành phố</th>\n",
       "      <th>Quốc gia</th>\n",
       "      <th>Là một công ty</th>\n",
       "      <th>...</th>\n",
       "      <th>Loại khách hàng</th>\n",
       "      <th>Map thẻ với off</th>\n",
       "      <th>Unnamed: 15</th>\n",
       "      <th>Tên hiển thị</th>\n",
       "      <th>Unnamed: 17</th>\n",
       "      <th>Unnamed: 18</th>\n",
       "      <th>Unnamed: 19</th>\n",
       "      <th>Unnamed: 20</th>\n",
       "      <th>Unnamed: 21</th>\n",
       "      <th>Unnamed: 22</th>\n",
       "    </tr>\n",
       "  </thead>\n",
       "  <tbody>\n",
       "    <tr>\n",
       "      <th>0</th>\n",
       "      <td>CÔNG TY CỔ PHẦN VNG</td>\n",
       "      <td>Z06 Đường số 13, Phường Tân Thuận Đông, Quận 7...</td>\n",
       "      <td>0303490096</td>\n",
       "      <td>(028) 39623888</td>\n",
       "      <td>2839623888</td>\n",
       "      <td>2839623888</td>\n",
       "      <td>none@gmail.com</td>\n",
       "      <td>TP Hồ Chí Minh (VN)</td>\n",
       "      <td>Việt Nam</td>\n",
       "      <td>True</td>\n",
       "      <td>...</td>\n",
       "      <td>NaN</td>\n",
       "      <td>KHÁCH QUẢNG CÁO LANDINGPAGE</td>\n",
       "      <td>NaN</td>\n",
       "      <td>CTY TƯ VẤN</td>\n",
       "      <td>NaN</td>\n",
       "      <td>NaN</td>\n",
       "      <td>NaN</td>\n",
       "      <td>NaN</td>\n",
       "      <td>NaN</td>\n",
       "      <td>NaN</td>\n",
       "    </tr>\n",
       "    <tr>\n",
       "      <th>1</th>\n",
       "      <td>CÔNG TY TNHH TOYO PIANO VIỆT NAM</td>\n",
       "      <td>Xưởng: Lô I - 10A, đường số 13, KCN Tân Bình, ...</td>\n",
       "      <td>0303277138</td>\n",
       "      <td>+84 28 3816 3692/ 02838163691</td>\n",
       "      <td>0919805757</td>\n",
       "      <td>0919805757</td>\n",
       "      <td>khanhtruc@toyo-piano.com.vn</td>\n",
       "      <td>TP Hồ Chí Minh (VN)</td>\n",
       "      <td>Việt Nam</td>\n",
       "      <td>True</td>\n",
       "      <td>...</td>\n",
       "      <td>NaN</td>\n",
       "      <td>NaN</td>\n",
       "      <td>NaN</td>\n",
       "      <td>KHÁCH ANH TRUNG KT</td>\n",
       "      <td>NaN</td>\n",
       "      <td>NaN</td>\n",
       "      <td>NaN</td>\n",
       "      <td>NaN</td>\n",
       "      <td>NaN</td>\n",
       "      <td>NaN</td>\n",
       "    </tr>\n",
       "    <tr>\n",
       "      <th>2</th>\n",
       "      <td>CÔNG TY TNHH SANDENKI VIỆT NAM</td>\n",
       "      <td>Xưởng số T29-1, Thửa đất số 260, Đường số 7, K...</td>\n",
       "      <td>3702258541</td>\n",
       "      <td>+84 274 3800 432</td>\n",
       "      <td>0919805757</td>\n",
       "      <td>0919805757</td>\n",
       "      <td>sdgthanh@gmail.com</td>\n",
       "      <td>Bình Dương (VN)</td>\n",
       "      <td>Việt Nam</td>\n",
       "      <td>True</td>\n",
       "      <td>...</td>\n",
       "      <td>NaN</td>\n",
       "      <td>NaN</td>\n",
       "      <td>NaN</td>\n",
       "      <td>KHÁCH CHỊ HÂN KĐAT3</td>\n",
       "      <td>NaN</td>\n",
       "      <td>NaN</td>\n",
       "      <td>NaN</td>\n",
       "      <td>NaN</td>\n",
       "      <td>NaN</td>\n",
       "      <td>NaN</td>\n",
       "    </tr>\n",
       "  </tbody>\n",
       "</table>\n",
       "<p>3 rows × 23 columns</p>\n",
       "</div>"
      ],
      "text/plain": [
       "                                Tên  \\\n",
       "0               CÔNG TY CỔ PHẦN VNG   \n",
       "1  CÔNG TY TNHH TOYO PIANO VIỆT NAM   \n",
       "2    CÔNG TY TNHH SANDENKI VIỆT NAM   \n",
       "\n",
       "                                               Đường  Mã số thuế  \\\n",
       "0  Z06 Đường số 13, Phường Tân Thuận Đông, Quận 7...  0303490096   \n",
       "1  Xưởng: Lô I - 10A, đường số 13, KCN Tân Bình, ...  0303277138   \n",
       "2  Xưởng số T29-1, Thửa đất số 260, Đường số 7, K...  3702258541   \n",
       "\n",
       "                      Điện thoại      Diđộng lọc di động  \\\n",
       "0                 (028) 39623888  2839623888  2839623888   \n",
       "1  +84 28 3816 3692/ 02838163691  0919805757  0919805757   \n",
       "2               +84 274 3800 432  0919805757  0919805757   \n",
       "\n",
       "                         Email            Thành phố  Quốc gia  Là một công ty  \\\n",
       "0               none@gmail.com  TP Hồ Chí Minh (VN)  Việt Nam            True   \n",
       "1  khanhtruc@toyo-piano.com.vn  TP Hồ Chí Minh (VN)  Việt Nam            True   \n",
       "2           sdgthanh@gmail.com      Bình Dương (VN)  Việt Nam            True   \n",
       "\n",
       "   ... Loại khách hàng              Map thẻ với off Unnamed: 15  \\\n",
       "0  ...             NaN  KHÁCH QUẢNG CÁO LANDINGPAGE         NaN   \n",
       "1  ...             NaN                          NaN         NaN   \n",
       "2  ...             NaN                          NaN         NaN   \n",
       "\n",
       "          Tên hiển thị Unnamed: 17  Unnamed: 18 Unnamed: 19  Unnamed: 20  \\\n",
       "0           CTY TƯ VẤN         NaN          NaN         NaN          NaN   \n",
       "1   KHÁCH ANH TRUNG KT         NaN          NaN         NaN          NaN   \n",
       "2  KHÁCH CHỊ HÂN KĐAT3         NaN          NaN         NaN          NaN   \n",
       "\n",
       "   Unnamed: 21  Unnamed: 22  \n",
       "0          NaN          NaN  \n",
       "1          NaN          NaN  \n",
       "2          NaN          NaN  \n",
       "\n",
       "[3 rows x 23 columns]"
      ]
     },
     "execution_count": 22,
     "metadata": {},
     "output_type": "execute_result"
    }
   ],
   "source": [
    "df = pd.read_excel('DuLieuLienHe.xlsx')\n",
    "df.head(3)"
   ]
  },
  {
   "cell_type": "code",
   "execution_count": 23,
   "metadata": {},
   "outputs": [
    {
     "data": {
      "text/plain": [
       "Index(['Tên', 'Đường', 'Mã số thuế', 'Điện thoại', 'Diđộng', 'lọc di động',\n",
       "       'Email', 'Thành phố', 'Quốc gia', 'Là một công ty', 'MAP NVKD',\n",
       "       'Nhân viên kinh doanh', 'ID bên ngoài', 'Loại khách hàng',\n",
       "       'Map thẻ với off', 'Unnamed: 15', 'Tên hiển thị', 'Unnamed: 17',\n",
       "       'Unnamed: 18', 'Unnamed: 19', 'Unnamed: 20', 'Unnamed: 21',\n",
       "       'Unnamed: 22'],\n",
       "      dtype='object')"
      ]
     },
     "execution_count": 23,
     "metadata": {},
     "output_type": "execute_result"
    }
   ],
   "source": [
    "df.columns"
   ]
  },
  {
   "cell_type": "code",
   "execution_count": 24,
   "metadata": {},
   "outputs": [
    {
     "name": "stdout",
     "output_type": "stream",
     "text": [
      "Index(['Tên', 'Đường', 'Mã số thuế', 'Điện thoại', 'Diđộng', 'lọc di động',\n",
      "       'Email', 'Thành phố', 'Quốc gia', 'Là một công ty', 'MAP NVKD',\n",
      "       'Nhân viên kinh doanh', 'ID bên ngoài', 'Loại khách hàng',\n",
      "       'Map thẻ với off', 'Tên hiển thị'],\n",
      "      dtype='object')\n"
     ]
    }
   ],
   "source": [
    "# Drop các cột có tên bắt đầu với \"Unnamed\"\n",
    "df = df.loc[:, ~df.columns.str.startswith(\"Unnamed\")]\n",
    "\n",
    "# Kiểm tra lại các cột sau khi drop\n",
    "print(df.columns)\n"
   ]
  },
  {
   "cell_type": "code",
   "execution_count": 25,
   "metadata": {},
   "outputs": [
    {
     "name": "stderr",
     "output_type": "stream",
     "text": [
      "C:\\Users\\DanHuy\\AppData\\Local\\Temp\\ipykernel_16140\\1783937245.py:31: SettingWithCopyWarning: \n",
      "A value is trying to be set on a copy of a slice from a DataFrame.\n",
      "Try using .loc[row_indexer,col_indexer] = value instead\n",
      "\n",
      "See the caveats in the documentation: https://pandas.pydata.org/pandas-docs/stable/user_guide/indexing.html#returning-a-view-versus-a-copy\n",
      "  df_invalid[\"Email\"] = df_invalid.apply(lambda row: clean_and_normalize_email(row[\"Email\"], row[\"Tên\"]), axis=1)\n"
     ]
    }
   ],
   "source": [
    "\n",
    "# Hàm kiểm tra email hợp lệ\n",
    "def is_valid_email(email):\n",
    "    pattern = r\"^[a-zA-Z0-9._%+-]+@[a-zA-Z0-9.-]+\\.[a-zA-Z]{2,}$\"\n",
    "    return bool(re.match(pattern, str(email)))\n",
    "\n",
    "def remove_accents(input_str):\n",
    "    \"\"\"Loại bỏ dấu tiếng Việt khỏi chuỗi.\"\"\"\n",
    "    return unidecode.unidecode(input_str)\n",
    "\n",
    "def clean_and_normalize_email(email, company_name):\n",
    "    \"\"\"Chuẩn hóa email bằng cách loại bỏ dấu, khoảng trắng, ký tự không hợp lệ và giữ lại email đầu tiên nếu có nhiều email.\"\"\"\n",
    "    if pd.isna(email) or not email.strip():\n",
    "        clean_name = remove_accents(str(company_name).strip().replace(\" \", \"\").lower())\n",
    "        return f\"{clean_name}@default.com\"\n",
    "    \n",
    "    # Cắt email thành danh sách và chọn email đầu tiên\n",
    "    emails = re.split(r'[;,\\s]+', email.strip())\n",
    "    cleaned_email = emails[0] if emails else None\n",
    "    \n",
    "    if is_valid_email(cleaned_email):\n",
    "        return cleaned_email  # Nếu hợp lệ, giữ nguyên\n",
    "    \n",
    "    # Nếu email không hợp lệ, tạo email mới từ tên không dấu\n",
    "    clean_name = remove_accents(str(company_name).strip()).lower()\n",
    "    return f\"{clean_name}@default.com\"\n",
    "\n",
    "# Áp dụng xử lý email cho từng dòng trong DataFrame\n",
    "\n",
    "df_valid = df[df[\"Email\"].apply(is_valid_email)]\n",
    "df_invalid = df[~df[\"Email\"].apply(is_valid_email)]\n",
    "df_invalid[\"Email\"] = df_invalid.apply(lambda row: clean_and_normalize_email(row[\"Email\"], row[\"Tên\"]), axis=1)\n",
    "df_combined = pd.concat([df_valid, df_invalid]).sort_index()"
   ]
  },
  {
   "cell_type": "code",
   "execution_count": 26,
   "metadata": {},
   "outputs": [],
   "source": [
    "df_valid.to_excel('ValidData.xlsx', index=False, engine=\"openpyxl\")\n",
    "df_invalid.to_excel('invalidData.xlsx', index=False, engine=\"openpyxl\")\n",
    "df_combined.to_excel('cleanedData.xlsx', index=False, engine=\"openpyxl\")"
   ]
  }
 ],
 "metadata": {
  "kernelspec": {
   "display_name": "Python 3",
   "language": "python",
   "name": "python3"
  },
  "language_info": {
   "codemirror_mode": {
    "name": "ipython",
    "version": 3
   },
   "file_extension": ".py",
   "mimetype": "text/x-python",
   "name": "python",
   "nbconvert_exporter": "python",
   "pygments_lexer": "ipython3",
   "version": "3.12.5"
  }
 },
 "nbformat": 4,
 "nbformat_minor": 2
}
